{
 "cells": [
  {
   "cell_type": "markdown",
   "metadata": {
    "slideshow": {
     "slide_type": "slide"
    }
   },
   "source": [
    "# Docker Containers"
   ]
  },
  {
   "cell_type": "markdown",
   "metadata": {
    "slideshow": {
     "slide_type": "slide"
    }
   },
   "source": [
    "# Docker\n",
    "\n",
    "- a system for building and running containers\n",
    "- containers look a little like virtual machines, virtual environments\n",
    "\n",
    "Very useful for work in DL/ML:\n",
    "\n",
    "- create complex software installs independent of host (including Windows and MacOS)\n",
    "- solve problems with driver/version incompatibilites for CUDA\n",
    "- assure reproducibility\n",
    "- basis for reliable distributed computation using Kubernetes"
   ]
  },
  {
   "cell_type": "markdown",
   "metadata": {
    "slideshow": {
     "slide_type": "slide"
    }
   },
   "source": [
    "# Docker Implementation\n",
    "\n",
    "- containers actually share a kernel\n",
    "- sophisticated version of `chroot`\n",
    "- just manipulate name spaces\n",
    "- provide isolation and (theoretically) security (BSD jails)\n",
    "- multiple namespaces in Linux\n",
    "    - file system\n",
    "    - users\n",
    "    - IPC\n",
    "    - networking"
   ]
  },
  {
   "cell_type": "markdown",
   "metadata": {
    "slideshow": {
     "slide_type": "slide"
    }
   },
   "source": [
    "# Creating Docker Containers\n",
    "\n",
    "- Docker containers are created with the `docker build` command\n",
    "- this packages software into a container\n",
    "- it's a cross between \"linking an executable\" and \"installing a machine\""
   ]
  },
  {
   "cell_type": "code",
   "execution_count": 2,
   "metadata": {},
   "outputs": [
    {
     "name": "stdout",
     "output_type": "stream",
     "text": [
      " ---> Using cache\n",
      " ---> e821490671e2\n",
      "Step 8/9 : RUN python3 -m pip install git+git://github.com/NVlabs/tensorcom\n",
      " ---> Using cache\n",
      " ---> e4ec4e7ba81a\n",
      "Step 9/9 : RUN sed -i '3,29d;34,35s/.*/true/;43,44s/.*/true/;72,74s/.*/true/;98,101s/.*/true/;s/echo *$/true/' /usr/local/bin/nvidia_entrypoint.sh\n",
      " ---> Using cache\n",
      " ---> c2e40f3e6618\n",
      "Successfully built c2e40f3e6618\n",
      "Successfully tagged myimage:latest\n"
     ]
    }
   ],
   "source": [
    "cat <<\"EOF\" |\n",
    "FROM nvcr.io/nvidia/pytorch:19.11-py3\n",
    "ENV DEBIAN_FRONTEND noninteractive\n",
    "RUN apt-get update\n",
    "RUN apt-get install -qqy daemon expect tmux dnsutils iputils-ping graphicsmagick\n",
    "RUN python3 -m pip install git+git://github.com/tmbdev/webdataset\n",
    "RUN python3 -m pip install git+git://github.com/tmbdev/torchmore\n",
    "RUN python3 -m pip install git+git://github.com/tmbdev/tarproc\n",
    "RUN python3 -m pip install git+git://github.com/NVlabs/tensorcom\n",
    "RUN sed -i '3,29d;34,35s/.*/true/;43,44s/.*/true/;72,74s/.*/true/;98,101s/.*/true/;s/echo *$/true/' /usr/local/bin/nvidia_entrypoint.sh\n",
    "EOF\n",
    "docker build -t myimage - > _log\n",
    "tail _log"
   ]
  },
  {
   "cell_type": "markdown",
   "metadata": {
    "slideshow": {
     "slide_type": "slide"
    }
   },
   "source": [
    "# Docker Containers Consist of Layers"
   ]
  },
  {
   "cell_type": "code",
   "execution_count": 3,
   "metadata": {},
   "outputs": [
    {
     "name": "stdout",
     "output_type": "stream",
     "text": [
      "IMAGE               CREATED             CREATED BY                                      SIZE                COMMENT\n",
      "c2e40f3e6618        5 hours ago         /bin/sh -c sed -i '3,29d;34,35s/.*/true/;43,…   68.1kB              \n",
      "e4ec4e7ba81a        5 hours ago         /bin/sh -c python3 -m pip install git+git://…   124kB               \n",
      "e821490671e2        6 hours ago         /bin/sh -c python3 -m pip install git+git://…   140kB               \n",
      "6eba85d1740a        6 hours ago         /bin/sh -c python3 -m pip install git+git://…   136kB               \n",
      "1c957b3afb1c        6 hours ago         /bin/sh -c python3 -m pip install git+git://…   9.95MB              \n",
      "43c2cc98b0c7        6 hours ago         /bin/sh -c apt-get install -qqy daemon expec…   114MB               \n",
      "01148ad8e25a        6 hours ago         /bin/sh -c apt-get update                       27.7MB              \n",
      "66dca9e4af22        6 hours ago         /bin/sh -c #(nop)  ENV DEBIAN_FRONTEND=nonin…   0B                  \n",
      "c97490b12436        3 weeks ago         |2 NVIDIA_BUILD_REF=b16656a96f38aa26442503e8…   0B                  \n"
     ]
    }
   ],
   "source": [
    "docker history myimage | sed 10q"
   ]
  },
  {
   "cell_type": "markdown",
   "metadata": {
    "slideshow": {
     "slide_type": "slide"
    }
   },
   "source": [
    "# Running Docker Containers\n",
    "\n",
    "You run Docker containers with the `docker run` command. To get GPU support, you need to use the `nvidia` runtime.\n",
    "\n",
    "Docker containers generally behave mostly like executables, scripts, and/or commands."
   ]
  },
  {
   "cell_type": "code",
   "execution_count": 4,
   "metadata": {},
   "outputs": [
    {
     "name": "stdout",
     "output_type": "stream",
     "text": [
      "GPU 0: TITAN X (Pascal) (UUID: GPU-a964bb9a-cb1a-5036-e1d8-1217c1faa8e7)\n",
      "GPU 1: TITAN X (Pascal) (UUID: GPU-a16b9686-b668-e8d5-ff5f-f85aea86d034)\n"
     ]
    }
   ],
   "source": [
    "docker run --runtime=nvidia myimage nvidia-smi -L"
   ]
  },
  {
   "cell_type": "markdown",
   "metadata": {
    "slideshow": {
     "slide_type": "slide"
    }
   },
   "source": [
    "# Interactive Usage\n",
    "\n",
    "You can run Docker containers interactively as well."
   ]
  },
  {
   "cell_type": "code",
   "execution_count": 5,
   "metadata": {},
   "outputs": [],
   "source": [
    "# INTERACTIVE USAGE:\n",
    "# docker run --runtime=nvidia -t -i myimage\n",
    "# docker ps\n",
    "# docker exec ... -t -i /bin/bash"
   ]
  },
  {
   "cell_type": "markdown",
   "metadata": {
    "slideshow": {
     "slide_type": "slide"
    }
   },
   "source": [
    "# Environment\n",
    "\n",
    "By default, code inside a container executes as root, in a private namespace and directory only visible within the container."
   ]
  },
  {
   "cell_type": "code",
   "execution_count": 6,
   "metadata": {},
   "outputs": [
    {
     "name": "stdout",
     "output_type": "stream",
     "text": [
      "uid=0(root) gid=0(root) groups=0(root)\n",
      "/workspace\n",
      "README.md\n",
      "docker-examples\n",
      "examples\n",
      "tutorials\n"
     ]
    }
   ],
   "source": [
    "docker run myimage bash -c 'id; pwd; ls'"
   ]
  },
  {
   "cell_type": "markdown",
   "metadata": {
    "slideshow": {
     "slide_type": "slide"
    }
   },
   "source": [
    "# Sharing with Host\n",
    "\n",
    "Most containers need to share something with their host. Here we share:\n",
    "- networking namespace\n",
    "- IPC namespace (shared memory etc.)\n",
    "- the current directory\n",
    "- the user and group ids and the corresponding passwd/group files"
   ]
  },
  {
   "cell_type": "code",
   "execution_count": 10,
   "metadata": {},
   "outputs": [
    {
     "name": "stdout",
     "output_type": "stream",
     "text": [
      "uid=1000(tmb) gid=1000(tmb) groups=1000(tmb)\n",
      "/home/tmb/exp/bigdata19\n",
      "000-data-prep.ipynb\n",
      "010-introduction.md\n",
      "020-image-classifier.md\n"
     ]
    }
   ],
   "source": [
    "docker run -t -i \\\n",
    "    --network host \\\n",
    "    --ipc host \\    \n",
    "    -v `pwd`:`pwd` \\\n",
    "    -w `pwd` \\\n",
    "    -v /etc/passwd:/etc/passwd \\\n",
    "    -v /etc/group:/etc/group \\\n",
    "    -u `id -u`:`id -g` \\\n",
    "    myimage \\\n",
    "    bash -c 'id; pwd; ls|sed 3q'"
   ]
  },
  {
   "cell_type": "markdown",
   "metadata": {
    "slideshow": {
     "slide_type": "slide"
    }
   },
   "source": [
    "# Convenience Script"
   ]
  },
  {
   "cell_type": "code",
   "execution_count": 11,
   "metadata": {},
   "outputs": [],
   "source": [
    "cat > myimage <<'EOF'\n",
    "#!/bin/bash\n",
    "exec docker run -t -i \\\n",
    "    --runtime=nvidia \\\n",
    "    --network host \\\n",
    "    --ipc host \\\n",
    "    -v /etc/passwd:/etc/passwd \\\n",
    "    -v /etc/group:/etc/group \\\n",
    "    -v `pwd`:`pwd` -w `pwd` -u `id -u`:`id -g` myimage \"$@\"\n",
    "EOF\n",
    "chmod 755 myimage"
   ]
  },
  {
   "cell_type": "markdown",
   "metadata": {
    "slideshow": {
     "slide_type": "slide"
    }
   },
   "source": [
    "# Using the Convenience Script"
   ]
  },
  {
   "cell_type": "code",
   "execution_count": 12,
   "metadata": {},
   "outputs": [
    {
     "name": "stdout",
     "output_type": "stream",
     "text": [
      "uid=1000(tmb) gid=1000(tmb) groups=1000(tmb)\n",
      "/home/tmb/exp/bigdata19\n",
      "000-data-prep.ipynb\n",
      "010-introduction.md\n",
      "020-image-classifier.md\n"
     ]
    }
   ],
   "source": [
    "./myimage bash -c 'id; pwd; ls|sed 3q'"
   ]
  },
  {
   "cell_type": "markdown",
   "metadata": {
    "slideshow": {
     "slide_type": "slide"
    }
   },
   "source": [
    "# Training with the Convenience Script\n",
    "\n",
    "This uses the `python3` executable from within the container to run the script `training.py` in the current directory."
   ]
  },
  {
   "cell_type": "code",
   "execution_count": 13,
   "metadata": {},
   "outputs": [
    {
     "name": "stdout",
     "output_type": "stream",
     "text": [
      "/opt/conda/lib/python3.6/site-packages/torchvision/io/_video_opt.py:17: UserWarning: video reader based on ffmpeg c++ ops not available\n",
      "  warnings.warn(\"video reader based on ffmpeg c++ ops not available\")\n",
      "Tue Dec 10 04:17:06 UTC 2019; bragi; tmb; /home/tmb/exp/bigdata19; GPU 0: TITAN X (Pascal) (UUID: GPU-a964bb9a-cb1a-5036-e1d8-1217c1faa8e7); GPU 1: TITAN X (Pascal) (UUID: GPU-a16b9686-b668-e8d5-ff5f-f85aea86d034); \n",
      "creating resnet18\n",
      "        0 bs   128 per sample loss 5.49e-02 loading 1.16e-02 training 3.51e-02\n",
      "     2560 bs   128 per sample loss 5.51e-02 loading 3.60e-03 training 4.81e-03\n",
      "     5248 bs   128 per sample loss 5.48e-02 loading 2.47e-03 training 1.07e-03\n",
      "     7552 bs   128 per sample loss 5.47e-02 loading 2.85e-03 training 6.92e-04\n",
      "     9856 bs   128 per sample loss 5.47e-02 loading 2.68e-03 training 6.21e-04\n"
     ]
    }
   ],
   "source": [
    "./myimage python3 training.py -m resnet18"
   ]
  },
  {
   "cell_type": "markdown",
   "metadata": {
    "slideshow": {
     "slide_type": "slide"
    }
   },
   "source": [
    "# Running Jupyter\n",
    "\n",
    "        # change to home directory so that Jupyter picks up config\n",
    "        cd\n",
    "        # generate a configuration if you don't have one already\n",
    "        jupyter notebook --generate-config\n",
    "        \n",
    "        # set a password so you can connect easily\n",
    "        jupyter notebook password\n",
    "        \n",
    "        # run the actual server\n",
    "        ./myimage jupyter lab"
   ]
  }
 ],
 "metadata": {
  "celltoolbar": "Slideshow",
  "kernelspec": {
   "display_name": "Bash",
   "language": "bash",
   "name": "bash"
  },
  "language_info": {
   "codemirror_mode": "shell",
   "file_extension": ".sh",
   "mimetype": "text/x-sh",
   "name": "bash"
  }
 },
 "nbformat": 4,
 "nbformat_minor": 4
}
