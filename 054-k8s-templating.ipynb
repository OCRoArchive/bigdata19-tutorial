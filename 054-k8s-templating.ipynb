{
 "cells": [
  {
   "cell_type": "markdown",
   "metadata": {
    "slideshow": {
     "slide_type": "slide"
    }
   },
   "source": [
    "# Simplifying Kubernetes"
   ]
  },
  {
   "cell_type": "markdown",
   "metadata": {
    "slideshow": {
     "slide_type": "slide"
    }
   },
   "source": [
    "# Simplifying Kubernetes\n",
    "\n",
    "- K8s specs are complicated\n",
    "- K8s specs for an app need to be consistent\n",
    "- multiple solutions\n",
    "    - Ansible - general software installation and configuration\n",
    "    - Helm - configure and deploy K8s applications\n",
    "    - Kubeflow - AI/ML framework and GUI on top of K8s\n",
    "    \n",
    "Want to stick close to plain K8s for control over performance, easy deployment."
   ]
  },
  {
   "cell_type": "markdown",
   "metadata": {
    "slideshow": {
     "slide_type": "slide"
    }
   },
   "source": [
    "# Templating\n",
    "\n",
    "- put the boilerplate text into templates (Jinja2)\n",
    "- generate actual YAML files by running a Jinja preprocessor\n",
    "- `kubetpl` is a small Jinja processor with useful K8s templates"
   ]
  },
  {
   "cell_type": "markdown",
   "metadata": {
    "slideshow": {
     "slide_type": "slide"
    }
   },
   "source": [
    "# Simple Templating with Shell Scripts\n",
    "\n",
    "We can get simple templates and shared parameters with shell scripts."
   ]
  },
  {
   "cell_type": "code",
   "execution_count": null,
   "metadata": {},
   "outputs": [],
   "source": [
    "cat > variables <<'EOF'\n",
    "app=bigdata19\n",
    "subdomain=bigdata19\n",
    "image=gcr.io/research-191823/bigdata19\n",
    "EOF\n",
    "\n",
    "source variables\n",
    "\n",
    "cmd=uptime\n",
    "kubectl apply -f - <<\"EOF\"\n",
    "apiVersion: v1\n",
    "kind: Pod\n",
    "metadata:\n",
    "  name: mypod\n",
    "  labels:\n",
    "    app: $app\n",
    "spec:\n",
    "  containers:\n",
    "  - name: mypod\n",
    "    image: $image\n",
    "    command: [\"$shell\", \"-c\", \"$cmd\"]\n",
    "  restartPolicy: Never\n",
    "EOF"
   ]
  },
  {
   "cell_type": "code",
   "execution_count": null,
   "metadata": {
    "slideshow": {
     "slide_type": "skip"
    }
   },
   "outputs": [],
   "source": [
    "sleep 15"
   ]
  },
  {
   "cell_type": "code",
   "execution_count": null,
   "metadata": {
    "slideshow": {
     "slide_type": "skip"
    }
   },
   "outputs": [],
   "source": [
    "kubectl delete pods --all"
   ]
  },
  {
   "cell_type": "markdown",
   "metadata": {
    "slideshow": {
     "slide_type": "slide"
    }
   },
   "source": [
    "# Running a Job (the simple way)"
   ]
  },
  {
   "cell_type": "code",
   "execution_count": 74,
   "metadata": {},
   "outputs": [
    {
     "name": "stdout",
     "output_type": "stream",
     "text": [
      "job.batch \"mytask\" deleted\n",
      "job.batch/mytask created\n"
     ]
    }
   ],
   "source": [
    "kubectl delete job.batch/mytask || true\n",
    "kubetpl job -c uptime | kubectl apply -f -"
   ]
  },
  {
   "cell_type": "code",
   "execution_count": null,
   "metadata": {
    "slideshow": {
     "slide_type": "skip"
    }
   },
   "outputs": [],
   "source": [
    "sleep 15"
   ]
  },
  {
   "cell_type": "code",
   "execution_count": 75,
   "metadata": {
    "slideshow": {
     "slide_type": "skip"
    }
   },
   "outputs": [
    {
     "name": "stdout",
     "output_type": "stream",
     "text": [
      "NAME     COMPLETIONS   DURATION   AGE\n",
      "mytask   1/1           2s         4s\n"
     ]
    }
   ],
   "source": [
    "kubectl get jobs"
   ]
  },
  {
   "cell_type": "code",
   "execution_count": 76,
   "metadata": {},
   "outputs": [
    {
     "name": "stdout",
     "output_type": "stream",
     "text": [
      " 17:00:22 up 11:59,  0 users,  load average: 0.01, 0.05, 0.24\n"
     ]
    }
   ],
   "source": [
    "kubectl logs job/mytask"
   ]
  },
  {
   "cell_type": "code",
   "execution_count": 95,
   "metadata": {
    "slideshow": {
     "slide_type": "skip"
    }
   },
   "outputs": [
    {
     "name": "stdout",
     "output_type": "stream",
     "text": [
      "job.batch \"mytask\" deleted\n"
     ]
    }
   ],
   "source": [
    "kubectl delete job/mytask"
   ]
  },
  {
   "cell_type": "markdown",
   "metadata": {
    "slideshow": {
     "slide_type": "slide"
    }
   },
   "source": [
    "# Template Generation"
   ]
  },
  {
   "cell_type": "code",
   "execution_count": 58,
   "metadata": {},
   "outputs": [
    {
     "name": "stdout",
     "output_type": "stream",
     "text": [
      "---\n",
      "apiVersion: v1\n",
      "kind: Pod\n",
      "metadata:\n",
      "  name: mytask\n",
      "  labels:\n",
      "    app: bragi-tmb-bigdata19\n",
      "spec:\n",
      "  containers:\n",
      "  - name: mytask\n",
      "    image: ubuntu:18.04\n",
      "    resources:\n",
      "      limits:\n",
      "        cpu: 1.5\n",
      "        memory: 1G\n",
      "        nvidia.com/gpu: \"1\"\n",
      "      requests:\n",
      "        cpu: 1.5\n",
      "        memory: 1G\n",
      "        nvidia.com/gpu: \"1\"\n",
      "    command: \n",
      "      - \"/bin/bash\"\n",
      "      - \"-c\"\n",
      "      - |\n",
      "        nvidia-smi\n",
      "    stdin: true\n",
      "    tty: true\n",
      "  hostname: mytask\n",
      "  restartPolicy: Never\n"
     ]
    }
   ],
   "source": [
    "kubetpl pod -G 1 -c nvidia-smi"
   ]
  },
  {
   "cell_type": "markdown",
   "metadata": {
    "slideshow": {
     "slide_type": "slide"
    }
   },
   "source": [
    "# Shared Parameters\n",
    "\n",
    "Often, we start related jobs that need to share parameters. The `kubetpl.yaml` file contains these."
   ]
  },
  {
   "cell_type": "code",
   "execution_count": 122,
   "metadata": {},
   "outputs": [],
   "source": [
    "cat > kubetpl.yaml <<'EOF'\n",
    "image: gcr.io/research-191823/bigdata19\n",
    "memory: 4G\n",
    "cpu: 1\n",
    "app: bigdata19\n",
    "subdomain: bigdata19\n",
    "port:\n",
    "  - 7880\n",
    "config_map: files\n",
    "env:\n",
    "  - MASTER_ADDR=master.bigdata19\n",
    "  - MASTER_PORT=7880\n",
    "EOF"
   ]
  },
  {
   "cell_type": "code",
   "execution_count": 128,
   "metadata": {
    "slideshow": {
     "slide_type": "skip"
    }
   },
   "outputs": [
    {
     "name": "stdout",
     "output_type": "stream",
     "text": [
      "service \"bigdata19\" deleted\n",
      "apiVersion: v1\n",
      "kind: Service\n",
      "metadata:\n",
      "  name: bigdata19\n",
      "spec:\n",
      "  clusterIP: None\n",
      "  ports:\n",
      "    - port: 7880\n",
      "      targetPort: 7880\n",
      "  selector:\n",
      "    app: bigdata19\n",
      "service/bigdata19 created\n"
     ]
    }
   ],
   "source": [
    "kubectl delete service/bigdata19 || true\n",
    "kubetpl service\n",
    "kubetpl service | kubectl apply -f -"
   ]
  },
  {
   "cell_type": "markdown",
   "metadata": {
    "slideshow": {
     "slide_type": "slide"
    }
   },
   "source": [
    "# Configmap Script\n",
    "\n",
    "There is also a small script that simplifies creating configmaps."
   ]
  },
  {
   "cell_type": "code",
   "execution_count": 129,
   "metadata": {},
   "outputs": [
    {
     "name": "stdout",
     "output_type": "stream",
     "text": [
      "-- --from-file=helpers.py=helpers.py\n",
      "-- --from-file=training.py=training.py\n",
      "configmap \"files\" deleted\n",
      "configmap/files created\n"
     ]
    }
   ],
   "source": [
    "kubefcm files *.py"
   ]
  },
  {
   "cell_type": "markdown",
   "metadata": {
    "slideshow": {
     "slide_type": "slide"
    }
   },
   "source": [
    "# Server with Templates"
   ]
  },
  {
   "cell_type": "code",
   "execution_count": 130,
   "metadata": {},
   "outputs": [
    {
     "name": "stdout",
     "output_type": "stream",
     "text": [
      "Error from server (NotFound): pods \"shards\" not found\n",
      "pod/shards created\n"
     ]
    }
   ],
   "source": [
    "kubectl delete pod/shards || true\n",
    "kubetpl pod -n shards -c 'serve-imagenet-shards -b 96 zpub://0.0.0.0:7880' | kubectl apply -f -"
   ]
  },
  {
   "cell_type": "code",
   "execution_count": 131,
   "metadata": {
    "slideshow": {
     "slide_type": "skip"
    }
   },
   "outputs": [],
   "source": [
    "sleep 15"
   ]
  },
  {
   "cell_type": "code",
   "execution_count": 132,
   "metadata": {
    "slideshow": {
     "slide_type": "skip"
    }
   },
   "outputs": [
    {
     "name": "stdout",
     "output_type": "stream",
     "text": [
      "NAME     READY   STATUS    RESTARTS   AGE\n",
      "shards   1/1     Running   0          19s\n"
     ]
    }
   ],
   "source": [
    "kubectl get pods"
   ]
  },
  {
   "cell_type": "code",
   "execution_count": 133,
   "metadata": {},
   "outputs": [
    {
     "name": "stdout",
     "output_type": "stream",
     "text": [
      "serving zpub://0.0.0.0:7880\n",
      "0 rate 0.000000 msg/s throughput 0.00e+00 bytes/s\n",
      "10 rate 5.500245 msg/s throughput 7.95e+07 bytes/s\n",
      "20 rate 5.242535 msg/s throughput 7.58e+07 bytes/s\n",
      "30 rate 5.165748 msg/s throughput 7.47e+07 bytes/s\n",
      "40 rate 5.033483 msg/s throughput 7.27e+07 bytes/s\n",
      "50 rate 4.983581 msg/s throughput 7.20e+07 bytes/s\n",
      "60 rate 4.947316 msg/s throughput 7.15e+07 bytes/s\n",
      "70 rate 4.837848 msg/s throughput 6.99e+07 bytes/s\n",
      "80 rate 4.839921 msg/s throughput 6.99e+07 bytes/s\n"
     ]
    }
   ],
   "source": [
    "kubectl logs shards | sed 10q"
   ]
  },
  {
   "cell_type": "markdown",
   "metadata": {
    "slideshow": {
     "slide_type": "slide"
    }
   },
   "source": [
    "# Client with Templates"
   ]
  },
  {
   "cell_type": "code",
   "execution_count": 134,
   "metadata": {},
   "outputs": [
    {
     "name": "stdout",
     "output_type": "stream",
     "text": [
      "Error from server (NotFound): pods \"monitor\" not found\n",
      "pod/monitor created\n"
     ]
    }
   ],
   "source": [
    "kubectl delete pod/monitor || true\n",
    "kubetpl pod -n monitor -c 'tensormon zsub://shards.bigdata19:7880' | kubectl apply -f -"
   ]
  },
  {
   "cell_type": "code",
   "execution_count": 135,
   "metadata": {
    "slideshow": {
     "slide_type": "skip"
    }
   },
   "outputs": [],
   "source": [
    "sleep 15"
   ]
  },
  {
   "cell_type": "code",
   "execution_count": 136,
   "metadata": {
    "slideshow": {
     "slide_type": "skip"
    }
   },
   "outputs": [
    {
     "name": "stdout",
     "output_type": "stream",
     "text": [
      "NAME      READY   STATUS    RESTARTS   AGE\n",
      "monitor   1/1     Running   0          17s\n",
      "shards    1/1     Running   0          41s\n"
     ]
    }
   ],
   "source": [
    "kubectl get pods"
   ]
  },
  {
   "cell_type": "code",
   "execution_count": 137,
   "metadata": {},
   "outputs": [
    {
     "name": "stdout",
     "output_type": "stream",
     "text": [
      "input: ['zsub://shards.bigdata19:7880']\n",
      "zsub://shards.bigdata19:7880\n",
      "connected\n",
      "                  10    5.455 batches/s  523.721 samples/s (batchsize: 96)\n",
      "                  20    4.868 batches/s  467.284 samples/s (batchsize: 96)\n",
      "                  30    4.829 batches/s  463.590 samples/s (batchsize: 96)\n",
      "                  40    4.719 batches/s  453.022 samples/s (batchsize: 96)\n",
      "                  50    4.899 batches/s  470.292 samples/s (batchsize: 96)\n",
      "                  60    4.282 batches/s  411.041 samples/s (batchsize: 96)\n",
      "                  70    4.706 batches/s  451.785 samples/s (batchsize: 96)\n"
     ]
    }
   ],
   "source": [
    "kubectl logs monitor | sed 10q"
   ]
  },
  {
   "cell_type": "markdown",
   "metadata": {
    "slideshow": {
     "slide_type": "slide"
    }
   },
   "source": [
    "# Training with Templates"
   ]
  },
  {
   "cell_type": "code",
   "execution_count": 138,
   "metadata": {},
   "outputs": [
    {
     "name": "stdout",
     "output_type": "stream",
     "text": [
      "Error from server (NotFound): jobs.batch \"training\" not found\n",
      "job.batch/training created\n"
     ]
    }
   ],
   "source": [
    "kubectl delete job/training || true\n",
    "kubetpl job -n training -G 1 -M 8G -c '\n",
    "cp /files/*.py .\n",
    "python3 training.py --tensorcom zsub://shards.bigdata19:7880\n",
    "' | kubectl apply -f -"
   ]
  },
  {
   "cell_type": "code",
   "execution_count": 139,
   "metadata": {
    "slideshow": {
     "slide_type": "skip"
    }
   },
   "outputs": [],
   "source": [
    "sleep 10"
   ]
  },
  {
   "cell_type": "code",
   "execution_count": 140,
   "metadata": {
    "slideshow": {
     "slide_type": "skip"
    }
   },
   "outputs": [
    {
     "name": "stdout",
     "output_type": "stream",
     "text": [
      "/opt/conda/lib/python3.6/site-packages/torchvision/io/_video_opt.py:17: UserWarning: video reader based on ffmpeg c++ ops not available\n",
      "  warnings.warn(\"video reader based on ffmpeg c++ ops not available\")\n",
      "Mon Dec  9 17:40:25 UTC 2019; training; root; /workspace; GPU 0: Tesla T4 (UUID: GPU-fd29201b-d663-6697-b413-a761dceb23c8); \n",
      "creating resnet50\n",
      "        0 bs    96 per sample loss 7.35e-02 loading 1.44e-03 training 2.09e-02\n"
     ]
    }
   ],
   "source": [
    "kubectl logs job/training"
   ]
  },
  {
   "cell_type": "code",
   "execution_count": 141,
   "metadata": {
    "slideshow": {
     "slide_type": "skip"
    }
   },
   "outputs": [],
   "source": [
    "sleep 120"
   ]
  },
  {
   "cell_type": "code",
   "execution_count": 142,
   "metadata": {},
   "outputs": [
    {
     "name": "stdout",
     "output_type": "stream",
     "text": [
      "/opt/conda/lib/python3.6/site-packages/torchvision/io/_video_opt.py:17: UserWarning: video reader based on ffmpeg c++ ops not available\n",
      "  warnings.warn(\"video reader based on ffmpeg c++ ops not available\")\n",
      "Mon Dec  9 17:40:25 UTC 2019; training; root; /workspace; GPU 0: Tesla T4 (UUID: GPU-fd29201b-d663-6697-b413-a761dceb23c8); \n",
      "creating resnet50\n",
      "        0 bs    96 per sample loss 7.35e-02 loading 1.44e-03 training 2.09e-02\n",
      "      960 bs    96 per sample loss 7.36e-02 loading 1.23e-03 training 1.00e-02\n",
      "     1920 bs    96 per sample loss 7.34e-02 loading 1.13e-03 training 6.34e-03\n",
      "     2880 bs    96 per sample loss 7.30e-02 loading 1.25e-03 training 5.00e-03\n",
      "     3840 bs    96 per sample loss 7.32e-02 loading 1.53e-03 training 4.39e-03\n",
      "     4800 bs    96 per sample loss 7.28e-02 loading 1.54e-03 training 4.18e-03\n"
     ]
    }
   ],
   "source": [
    "kubectl logs job/training"
   ]
  },
  {
   "cell_type": "code",
   "execution_count": 143,
   "metadata": {
    "slideshow": {
     "slide_type": "skip"
    }
   },
   "outputs": [
    {
     "name": "stdout",
     "output_type": "stream",
     "text": [
      "NAME       COMPLETIONS   DURATION   AGE\n",
      "training   0/1           72s        72s\n"
     ]
    }
   ],
   "source": [
    "kubectl get jobs"
   ]
  },
  {
   "cell_type": "code",
   "execution_count": 144,
   "metadata": {
    "slideshow": {
     "slide_type": "skip"
    }
   },
   "outputs": [
    {
     "name": "stdout",
     "output_type": "stream",
     "text": [
      "job.batch \"training\" deleted\n",
      "pod \"monitor\" deleted\n",
      "pod \"shards\" deleted\n",
      "pod \"training-jzzvk\" deleted\n"
     ]
    }
   ],
   "source": [
    "kubectl delete jobs --all\n",
    "kubectl delete pods --all"
   ]
  },
  {
   "cell_type": "markdown",
   "metadata": {
    "slideshow": {
     "slide_type": "slide"
    }
   },
   "source": [
    "# Kubernetes with Templating\n",
    "\n",
    "Makes using Kubernetes as simple as many job queuing systems:\n",
    "\n",
    "- start service/server: `kubetpl pod -c ... | kubectl apply -f`\n",
    "- submit job: `kubetpl job -c ... | kubectl apply -f`\n",
    "- create service: `kubetpl service ... | kubectl apply -f`\n",
    "- share files: `kubecfm name files...`"
   ]
  }
 ],
 "metadata": {
  "celltoolbar": "Slideshow",
  "kernelspec": {
   "display_name": "Bash",
   "language": "bash",
   "name": "bash"
  },
  "language_info": {
   "codemirror_mode": "shell",
   "file_extension": ".sh",
   "mimetype": "text/x-sh",
   "name": "bash"
  }
 },
 "nbformat": 4,
 "nbformat_minor": 4
}
