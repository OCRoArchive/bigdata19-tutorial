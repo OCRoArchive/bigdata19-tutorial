{
 "cells": [
  {
   "cell_type": "markdown",
   "metadata": {
    "slideshow": {
     "slide_type": "slide"
    }
   },
   "source": [
    "# Kubernetes Service Discovery"
   ]
  },
  {
   "cell_type": "markdown",
   "metadata": {
    "slideshow": {
     "slide_type": "slide"
    }
   },
   "source": [
    "# Service Discovery\n",
    "\n",
    "- for large scale deep learning we need multiple processes that talk to each other\n",
    "- this requires\n",
    "    - service discovery\n",
    "    - networking\n",
    "    - name resolution"
   ]
  },
  {
   "cell_type": "markdown",
   "metadata": {
    "slideshow": {
     "slide_type": "slide"
    }
   },
   "source": [
    "# K8s Service Discovery\n",
    "\n",
    "Simple:\n",
    "\n",
    "- every pod gets assigned a hostname and domain\n",
    "- you can simply connect directly to these well-known names\n",
    "\n",
    "Requirements:\n",
    "\n",
    "- create a \"headless service\" to start the name resolver\n",
    "- add ports, host name, and subdomain to your pods"
   ]
  },
  {
   "cell_type": "markdown",
   "metadata": {
    "slideshow": {
     "slide_type": "slide"
    }
   },
   "source": [
    "# Headless Service\n",
    "\n",
    "The `clusterIP: None` makes it headless. (Other services are load balancing, which we don't want.)"
   ]
  },
  {
   "cell_type": "code",
   "execution_count": 28,
   "metadata": {
    "slideshow": {
     "slide_type": "-"
    }
   },
   "outputs": [
    {
     "name": "stdout",
     "output_type": "stream",
     "text": [
      "service/bigdata19 unchanged\n"
     ]
    }
   ],
   "source": [
    "kubectl apply -f - <<'EOF'\n",
    "apiVersion: v1\n",
    "kind: Service\n",
    "metadata:\n",
    "  name: bigdata19\n",
    "spec:\n",
    "  clusterIP: None\n",
    "  ports:\n",
    "    - port: 7880\n",
    "      targetPort: 7880\n",
    "  selector:\n",
    "    app: bigdata19\n",
    "EOF"
   ]
  },
  {
   "cell_type": "markdown",
   "metadata": {
    "slideshow": {
     "slide_type": "slide"
    }
   },
   "source": [
    "# A Visible Pod\n",
    "\n",
    "This pod will be assigned the DNS name `shards.bigdata19`."
   ]
  },
  {
   "cell_type": "code",
   "execution_count": 30,
   "metadata": {
    "slideshow": {
     "slide_type": "-"
    }
   },
   "outputs": [
    {
     "name": "stdout",
     "output_type": "stream",
     "text": [
      "Error from server (NotFound): pods \"shards\" not found\n",
      "pod/shards created\n"
     ]
    }
   ],
   "source": [
    "# nodes get assigned DNS names if they have a port and the app label matches the headless service\n",
    "\n",
    "kubectl delete pod/shards || true\n",
    "kubectl apply -f - <<'EOF'\n",
    "apiVersion: v1\n",
    "kind: Pod\n",
    "metadata:\n",
    "  name: shards\n",
    "  labels:\n",
    "    app: bigdata19\n",
    "spec:\n",
    "  containers:\n",
    "  - name: shards\n",
    "    image: gcr.io/research-191823/bigdata19\n",
    "    command: [\"serve-imagenet-shards\", \"-b\", \"96\", \"zpub://0.0.0.0:7880\"]\n",
    "    ports:\n",
    "      - containerPort: 7880\n",
    "  restartPolicy: Never\n",
    "  hostname: shards\n",
    "  subdomain: bigdata19\n",
    "EOF"
   ]
  },
  {
   "cell_type": "code",
   "execution_count": null,
   "metadata": {
    "slideshow": {
     "slide_type": "skip"
    }
   },
   "outputs": [],
   "source": [
    "sleep 15"
   ]
  },
  {
   "cell_type": "markdown",
   "metadata": {
    "slideshow": {
     "slide_type": "slide"
    }
   },
   "source": [
    "# DNS Debugging"
   ]
  },
  {
   "cell_type": "code",
   "execution_count": 32,
   "metadata": {},
   "outputs": [
    {
     "name": "stdout",
     "output_type": "stream",
     "text": [
      "Server:\t\t10.64.0.10\n",
      "Address:\t10.64.0.10#53\n",
      "\n",
      "Name:\tshards.bigdata19.default.svc.cluster.local\n",
      "Address: 10.0.1.149\n",
      "\n",
      "nameserver 10.64.0.10\n",
      "search default.svc.cluster.local svc.cluster.local cluster.local c.research-191823.internal google.internal\n",
      "options ndots:5\n"
     ]
    }
   ],
   "source": [
    "# make sure resolution is working\n",
    "kubectl exec -ti shards -- nslookup shards.bigdata19\n",
    "\n",
    "# check resolv.conf file\n",
    "kubectl exec -ti shards -- cat /etc/resolv.conf"
   ]
  },
  {
   "cell_type": "code",
   "execution_count": 33,
   "metadata": {
    "slideshow": {
     "slide_type": "skip"
    }
   },
   "outputs": [
    {
     "name": "stdout",
     "output_type": "stream",
     "text": [
      "NAME                   TYPE        CLUSTER-IP     EXTERNAL-IP   PORT(S)         AGE\n",
      "default-http-backend   NodePort    10.64.0.106    <none>        80:31530/TCP    11h\n",
      "heapster               ClusterIP   10.64.5.246    <none>        80/TCP          11h\n",
      "kube-dns               ClusterIP   10.64.0.10     <none>        53/UDP,53/TCP   11h\n",
      "metrics-server         ClusterIP   10.64.15.252   <none>        443/TCP         11h\n",
      "NAME       ENDPOINTS                                               AGE\n",
      "kube-dns   10.0.0.130:53,10.0.2.130:53,10.0.0.130:53 + 1 more...   11h\n"
     ]
    }
   ],
   "source": [
    "# check service running\n",
    "kubectl get svc --namespace=kube-system\n",
    "\n",
    "# check endpoints\n",
    "kubectl get ep kube-dns --namespace=kube-system"
   ]
  },
  {
   "cell_type": "code",
   "execution_count": 34,
   "metadata": {
    "slideshow": {
     "slide_type": "skip"
    }
   },
   "outputs": [
    {
     "name": "stdout",
     "output_type": "stream",
     "text": [
      "NAME                        READY   STATUS    RESTARTS   AGE\n",
      "kube-dns-79868f54c5-h9m5c   4/4     Running   0          11h\n",
      "kube-dns-79868f54c5-kh556   4/4     Running   0          11h\n",
      "E1209 05:11:04.345848       1 reflector.go:201] k8s.io/dns/pkg/dns/dns.go:192: Failed to list *v1.Service: Get https://10.64.0.1:443/api/v1/services?resourceVersion=0: net/http: TLS handshake timeout\n",
      "E1209 05:11:04.346614       1 reflector.go:201] k8s.io/dns/pkg/dns/dns.go:189: Failed to list *v1.Endpoints: Get https://10.64.0.1:443/api/v1/endpoints?resourceVersion=0: net/http: TLS handshake timeout\n",
      "I1209 07:01:00.234994       1 dns.go:601] Could not find endpoints for service \"bigdata19\" in namespace \"default\". DNS records will be created once endpoints show up.\n",
      "I1209 05:04:01.718338       1 nanny.go:146] dnsmasq[23]: using nameserver 127.0.0.1#10053 for domain cluster.local \n",
      "I1209 05:04:01.718345       1 nanny.go:146] dnsmasq[23]: using nameserver 169.254.169.254#53\n",
      "I1209 05:04:01.718354       1 nanny.go:146] dnsmasq[23]: read /etc/hosts - 7 addresses\n",
      "I1209 05:04:02.521706       1 server.go:45] Starting server (options {DnsMasqPort:53 DnsMasqAddr:127.0.0.1 DnsMasqPollIntervalMs:5000 Probes:[{Label:kubedns Server:127.0.0.1:10053 Name:kubernetes.default.svc.cluster.local. Interval:5s Type:33} {Label:dnsmasq Server:127.0.0.1:53 Name:kubernetes.default.svc.cluster.local. Interval:5s Type:33}] PrometheusAddr:0.0.0.0 PrometheusPort:10054 PrometheusPath:/metrics PrometheusNamespace:kubedns})\n",
      "I1209 05:04:02.521760       1 dnsprobe.go:75] Starting dnsProbe {Label:kubedns Server:127.0.0.1:10053 Name:kubernetes.default.svc.cluster.local. Interval:5s Type:33}\n",
      "I1209 05:04:02.521898       1 dnsprobe.go:75] Starting dnsProbe {Label:dnsmasq Server:127.0.0.1:53 Name:kubernetes.default.svc.cluster.local. Interval:5s Type:33}\n",
      "I1209 05:04:03.749028       1 main.go:124] Taking source configs from kubernetes api server\n",
      "I1209 05:04:03.749033       1 main.go:85] Built the following source configs: [{kubedns localhost 10054 /metrics [probe_kubedns_latency_ms probe_kubedns_errors dnsmasq_misses dnsmasq_hits] 0xc4203e40a0}]\n",
      "I1209 05:04:03.749061       1 main.go:133] Running prometheus-to-sd, monitored target is kubedns localhost:10054\n"
     ]
    }
   ],
   "source": [
    "# when desperate, you can look through the kube-dns logs\n",
    "kubectl get pods --namespace=kube-system -l k8s-app=kube-dns\n",
    "kubectl get pods --namespace=kube-system -l k8s-app=kube-dns -o name | sed 1q |\n",
    "while read pod; do \n",
    "kubectl logs --tail=3 --namespace=kube-system $pod -c kubedns\n",
    "kubectl logs --tail=3 --namespace=kube-system $pod -c dnsmasq\n",
    "kubectl logs --tail=3 --namespace=kube-system $pod -c sidecar\n",
    "kubectl logs --tail=3 --namespace=kube-system $pod -c prometheus-to-sd\n",
    "done"
   ]
  },
  {
   "cell_type": "code",
   "execution_count": 35,
   "metadata": {
    "slideshow": {
     "slide_type": "skip"
    }
   },
   "outputs": [],
   "source": [
    "sleep 15"
   ]
  },
  {
   "cell_type": "markdown",
   "metadata": {
    "slideshow": {
     "slide_type": "slide"
    }
   },
   "source": [
    "# Logs of the Running Server\n",
    "\n",
    "The server is chugging along nicely, sending out training batches to anybody who will listen."
   ]
  },
  {
   "cell_type": "code",
   "execution_count": 36,
   "metadata": {},
   "outputs": [
    {
     "name": "stdout",
     "output_type": "stream",
     "text": [
      "serving zpub://0.0.0.0:7880\n",
      "0 rate 0.000000 msg/s throughput 0.00e+00 bytes/s\n",
      "10 rate 5.538139 msg/s throughput 8.00e+07 bytes/s\n",
      "20 rate 5.260502 msg/s throughput 7.60e+07 bytes/s\n",
      "30 rate 5.167468 msg/s throughput 7.47e+07 bytes/s\n",
      "40 rate 5.068958 msg/s throughput 7.33e+07 bytes/s\n",
      "50 rate 5.030015 msg/s throughput 7.27e+07 bytes/s\n",
      "60 rate 4.998792 msg/s throughput 7.22e+07 bytes/s\n",
      "70 rate 5.002644 msg/s throughput 7.23e+07 bytes/s\n",
      "80 rate 4.998627 msg/s throughput 7.22e+07 bytes/s\n"
     ]
    }
   ],
   "source": [
    "kubectl logs shards | sed 10q"
   ]
  },
  {
   "cell_type": "code",
   "execution_count": 37,
   "metadata": {},
   "outputs": [
    {
     "name": "stdout",
     "output_type": "stream",
     "text": [
      "NAME     READY   STATUS    RESTARTS   AGE\n",
      "shards   1/1     Running   0          4m32s\n"
     ]
    }
   ],
   "source": [
    "kubectl get pods"
   ]
  },
  {
   "cell_type": "markdown",
   "metadata": {
    "slideshow": {
     "slide_type": "slide"
    }
   },
   "source": [
    "# Starting a Client\n",
    "\n",
    "Here is a small network client that listens to training data and outputs statistics."
   ]
  },
  {
   "cell_type": "code",
   "execution_count": 38,
   "metadata": {},
   "outputs": [
    {
     "name": "stdout",
     "output_type": "stream",
     "text": [
      "Error from server (NotFound): pods \"client\" not found\n",
      "pod/client created\n"
     ]
    }
   ],
   "source": [
    "kubectl delete pod/client || true\n",
    "kubectl apply -f - <<'EOF'\n",
    "apiVersion: v1\n",
    "kind: Pod\n",
    "metadata:\n",
    "  name: client\n",
    "  labels:\n",
    "    app: bigdata19\n",
    "spec:\n",
    "  containers:\n",
    "  - name: client\n",
    "    image: gcr.io/research-191823/bigdata19\n",
    "    command: [\"tensormon\", \"zsub://shards.bigdata19:7880\"]\n",
    "    stdin: true\n",
    "    tty: true\n",
    "  restartPolicy: Never\n",
    "  hostname: client\n",
    "  subdomain: bigdata19\n",
    "EOF"
   ]
  },
  {
   "cell_type": "code",
   "execution_count": 39,
   "metadata": {
    "slideshow": {
     "slide_type": "skip"
    }
   },
   "outputs": [],
   "source": [
    "sleep 15"
   ]
  },
  {
   "cell_type": "markdown",
   "metadata": {
    "slideshow": {
     "slide_type": "slide"
    }
   },
   "source": [
    "# Client Output"
   ]
  },
  {
   "cell_type": "code",
   "execution_count": 40,
   "metadata": {},
   "outputs": [
    {
     "name": "stdout",
     "output_type": "stream",
     "text": [
      "input: ['zsub://shards.bigdata19:7880']\n",
      "zsub://shards.bigdata19:7880\n",
      "connected\n",
      "                  10    1.818 batches/s  174.525 samples/s (batchsize: 96)\n",
      "                  20    5.192 batches/s  498.429 samples/s (batchsize: 96)\n",
      "                  30    5.199 batches/s  499.126 samples/s (batchsize: 96)\n",
      "                  40    4.700 batches/s  451.197 samples/s (batchsize: 96)\n",
      "                  50    5.196 batches/s  498.807 samples/s (batchsize: 96)\n"
     ]
    }
   ],
   "source": [
    "kubectl logs client | sed 10q"
   ]
  },
  {
   "cell_type": "markdown",
   "metadata": {
    "slideshow": {
     "slide_type": "slide"
    }
   },
   "source": [
    "# Starting a DL Client on a GPU Node"
   ]
  },
  {
   "cell_type": "code",
   "execution_count": 41,
   "metadata": {},
   "outputs": [
    {
     "name": "stdout",
     "output_type": "stream",
     "text": [
      "Error from server (NotFound): jobs.batch \"myjob\" not found\n",
      "job.batch/myjob created\n"
     ]
    }
   ],
   "source": [
    "kubectl delete job/myjob || true\n",
    "kubectl apply -f - <<'EOF'\n",
    "apiVersion: batch/v1\n",
    "kind: Job\n",
    "metadata:\n",
    "  name: myjob\n",
    "  labels:\n",
    "    app: bigdata19\n",
    "spec:\n",
    "  backoffLimit: 0\n",
    "  template:\n",
    "    spec:\n",
    "      containers:\n",
    "        - name: myjob\n",
    "          image: gcr.io/research-191823/bigdata19\n",
    "          command: \n",
    "            - \"/bin/bash\"\n",
    "            - \"-c\"\n",
    "            - |\n",
    "              cp /files/*.py .\n",
    "              python3 training.py --tensorcom zsub://shards.bigdata19:7880\n",
    "          stdin: true\n",
    "          tty: true\n",
    "          resources:\n",
    "            limits:\n",
    "              nvidia.com/gpu: \"1\"\n",
    "          volumeMounts:\n",
    "            - mountPath: /files\n",
    "              name: files\n",
    "      nodeSelector:\n",
    "        cloud.google.com/gke-accelerator: nvidia-tesla-t4\n",
    "      restartPolicy: Never\n",
    "      volumes:\n",
    "        - configMap:\n",
    "            name: files\n",
    "          name: files\n",
    "EOF"
   ]
  },
  {
   "cell_type": "code",
   "execution_count": 42,
   "metadata": {
    "slideshow": {
     "slide_type": "skip"
    }
   },
   "outputs": [],
   "source": [
    "sleep 10"
   ]
  },
  {
   "cell_type": "code",
   "execution_count": 43,
   "metadata": {
    "slideshow": {
     "slide_type": "skip"
    }
   },
   "outputs": [
    {
     "name": "stdout",
     "output_type": "stream",
     "text": [
      "/opt/conda/lib/python3.6/site-packages/torchvision/io/_video_opt.py:17: UserWarning: video reader based on ffmpeg c++ ops not available\n",
      "  warnings.warn(\"video reader based on ffmpeg c++ ops not available\")\n",
      "Mon Dec  9 16:40:23 UTC 2019; myjob-q2d62; root; /workspace; GPU 0: Tesla T4 (UUID: GPU-fd29201b-d663-6697-b413-a761dceb23c8); \n",
      "creating resnet50\n",
      "        0 bs    96 per sample loss 7.45e-02 loading 6.03e-04 training 1.85e-02\n"
     ]
    }
   ],
   "source": [
    "kubectl logs job/myjob"
   ]
  },
  {
   "cell_type": "code",
   "execution_count": 44,
   "metadata": {
    "slideshow": {
     "slide_type": "skip"
    }
   },
   "outputs": [],
   "source": [
    "sleep 60"
   ]
  },
  {
   "cell_type": "markdown",
   "metadata": {
    "slideshow": {
     "slide_type": "slide"
    }
   },
   "source": [
    "# Training\n",
    "\n",
    "- Note that with distributed preprocessing, loading is very fast.\n",
    "- We will talk about the Tensorcom package late."
   ]
  },
  {
   "cell_type": "code",
   "execution_count": 45,
   "metadata": {},
   "outputs": [
    {
     "name": "stdout",
     "output_type": "stream",
     "text": [
      "/opt/conda/lib/python3.6/site-packages/torchvision/io/_video_opt.py:17: UserWarning: video reader based on ffmpeg c++ ops not available\n",
      "  warnings.warn(\"video reader based on ffmpeg c++ ops not available\")\n",
      "Mon Dec  9 16:40:23 UTC 2019; myjob-q2d62; root; /workspace; GPU 0: Tesla T4 (UUID: GPU-fd29201b-d663-6697-b413-a761dceb23c8); \n",
      "creating resnet50\n",
      "        0 bs    96 per sample loss 7.45e-02 loading 6.03e-04 training 1.85e-02\n",
      "     1152 bs    96 per sample loss 7.38e-02 loading 5.74e-04 training 7.39e-03\n",
      "     2304 bs    96 per sample loss 7.34e-02 loading 5.62e-04 training 4.28e-03\n",
      "     3456 bs    96 per sample loss 7.31e-02 loading 5.57e-04 training 3.42e-03\n",
      "     4608 bs    96 per sample loss 7.29e-02 loading 5.56e-04 training 3.18e-03\n",
      "     5760 bs    96 per sample loss 7.27e-02 loading 5.58e-04 training 3.13e-03\n",
      "     6816 bs    96 per sample loss 7.26e-02 loading 5.56e-04 training 3.12e-03\n"
     ]
    }
   ],
   "source": [
    "kubectl logs job/myjob"
   ]
  },
  {
   "cell_type": "code",
   "execution_count": 46,
   "metadata": {
    "slideshow": {
     "slide_type": "skip"
    }
   },
   "outputs": [
    {
     "name": "stdout",
     "output_type": "stream",
     "text": [
      "NAME    COMPLETIONS   DURATION   AGE\n",
      "myjob   0/1           72s        72s\n"
     ]
    }
   ],
   "source": [
    "kubectl get jobs"
   ]
  },
  {
   "cell_type": "code",
   "execution_count": 47,
   "metadata": {
    "slideshow": {
     "slide_type": "skip"
    }
   },
   "outputs": [
    {
     "name": "stdout",
     "output_type": "stream",
     "text": [
      "job.batch \"myjob\" deleted\n",
      "pod \"client\" deleted\n",
      "pod \"myjob-q2d62\" deleted\n",
      "pod \"shards\" deleted\n"
     ]
    }
   ],
   "source": [
    "kubectl delete jobs --all\n",
    "kubectl delete pods --all"
   ]
  },
  {
   "cell_type": "markdown",
   "metadata": {
    "slideshow": {
     "slide_type": "slide"
    }
   },
   "source": [
    "# Kubernetes Service Discovery\n",
    "\n",
    "- it's like creating new server out of thin air\n",
    "- you can define your distributed application as a collection of pods\n",
    "- K8s also provides load balancing and more complex name spaces"
   ]
  }
 ],
 "metadata": {
  "celltoolbar": "Slideshow",
  "kernelspec": {
   "display_name": "Bash",
   "language": "bash",
   "name": "bash"
  },
  "language_info": {
   "codemirror_mode": "shell",
   "file_extension": ".sh",
   "mimetype": "text/x-sh",
   "name": "bash"
  }
 },
 "nbformat": 4,
 "nbformat_minor": 4
}
